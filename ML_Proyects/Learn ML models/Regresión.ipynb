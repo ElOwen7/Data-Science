{
 "cells": [
  {
   "cell_type": "markdown",
   "id": "9010b6d1",
   "metadata": {},
   "source": [
    "# Problema\n",
    "En este problema tenemos los datos de una empresa en donde se muestran las ventas obtenidas en base a la publicidad hecha en distintos medios. El objetivo es desarrollar un algoritmo que nos sirva para encontrar cuales son los mejores para hacer publicidad que nos lleve a tener buenas ventas."
   ]
  },
  {
   "cell_type": "code",
   "execution_count": 1,
   "id": "5d1e6cfb",
   "metadata": {},
   "outputs": [
    {
     "data": {
      "text/plain": [
       "'C:\\\\Users\\\\owent\\\\OneDrive\\\\Escritorio\\\\Data Science\\\\ML_Proyects\\\\Untitled Folder\\\\datasets\\\\'"
      ]
     },
     "execution_count": 1,
     "metadata": {},
     "output_type": "execute_result"
    }
   ],
   "source": [
    "import os\n",
    "import sys\n",
    "PATH = os.getcwd()\n",
    "DIR_DATA = PATH + '{0}datasets{0}'.format(os.sep)\n",
    "sys.path.append(PATH) if PATH not in list(sys.path) else None\n",
    "DIR_DATA"
   ]
  },
  {
   "cell_type": "code",
   "execution_count": 2,
   "id": "a548b43f",
   "metadata": {},
   "outputs": [],
   "source": [
    "import pandas as pd\n",
    "import matplotlib.pyplot as plt"
   ]
  },
  {
   "cell_type": "code",
   "execution_count": 3,
   "id": "fb487c44",
   "metadata": {},
   "outputs": [],
   "source": [
    "# DataSet1 que corresponde a las descripciones de los puestos\n",
    "filename = DIR_DATA + 'Advertising.csv'"
   ]
  },
  {
   "cell_type": "code",
   "execution_count": 4,
   "id": "93efd852",
   "metadata": {},
   "outputs": [
    {
     "data": {
      "text/html": [
       "<div>\n",
       "<style scoped>\n",
       "    .dataframe tbody tr th:only-of-type {\n",
       "        vertical-align: middle;\n",
       "    }\n",
       "\n",
       "    .dataframe tbody tr th {\n",
       "        vertical-align: top;\n",
       "    }\n",
       "\n",
       "    .dataframe thead th {\n",
       "        text-align: right;\n",
       "    }\n",
       "</style>\n",
       "<table border=\"1\" class=\"dataframe\">\n",
       "  <thead>\n",
       "    <tr style=\"text-align: right;\">\n",
       "      <th></th>\n",
       "      <th>Unnamed: 0</th>\n",
       "      <th>TV</th>\n",
       "      <th>Radio</th>\n",
       "      <th>Newspaper</th>\n",
       "      <th>Sales</th>\n",
       "    </tr>\n",
       "  </thead>\n",
       "  <tbody>\n",
       "    <tr>\n",
       "      <th>0</th>\n",
       "      <td>1</td>\n",
       "      <td>230.1</td>\n",
       "      <td>37.8</td>\n",
       "      <td>69.2</td>\n",
       "      <td>22.1</td>\n",
       "    </tr>\n",
       "    <tr>\n",
       "      <th>1</th>\n",
       "      <td>2</td>\n",
       "      <td>44.5</td>\n",
       "      <td>39.3</td>\n",
       "      <td>45.1</td>\n",
       "      <td>10.4</td>\n",
       "    </tr>\n",
       "    <tr>\n",
       "      <th>2</th>\n",
       "      <td>3</td>\n",
       "      <td>17.2</td>\n",
       "      <td>45.9</td>\n",
       "      <td>69.3</td>\n",
       "      <td>9.3</td>\n",
       "    </tr>\n",
       "    <tr>\n",
       "      <th>3</th>\n",
       "      <td>4</td>\n",
       "      <td>151.5</td>\n",
       "      <td>41.3</td>\n",
       "      <td>58.5</td>\n",
       "      <td>18.5</td>\n",
       "    </tr>\n",
       "    <tr>\n",
       "      <th>4</th>\n",
       "      <td>5</td>\n",
       "      <td>180.8</td>\n",
       "      <td>10.8</td>\n",
       "      <td>58.4</td>\n",
       "      <td>12.9</td>\n",
       "    </tr>\n",
       "  </tbody>\n",
       "</table>\n",
       "</div>"
      ],
      "text/plain": [
       "   Unnamed: 0     TV  Radio  Newspaper  Sales\n",
       "0           1  230.1   37.8       69.2   22.1\n",
       "1           2   44.5   39.3       45.1   10.4\n",
       "2           3   17.2   45.9       69.3    9.3\n",
       "3           4  151.5   41.3       58.5   18.5\n",
       "4           5  180.8   10.8       58.4   12.9"
      ]
     },
     "execution_count": 4,
     "metadata": {},
     "output_type": "execute_result"
    }
   ],
   "source": [
    "df = pd.read_csv(filename)\n",
    "df.head()"
   ]
  },
  {
   "cell_type": "code",
   "execution_count": 5,
   "id": "57ca2145",
   "metadata": {},
   "outputs": [
    {
     "data": {
      "text/html": [
       "<div>\n",
       "<style scoped>\n",
       "    .dataframe tbody tr th:only-of-type {\n",
       "        vertical-align: middle;\n",
       "    }\n",
       "\n",
       "    .dataframe tbody tr th {\n",
       "        vertical-align: top;\n",
       "    }\n",
       "\n",
       "    .dataframe thead th {\n",
       "        text-align: right;\n",
       "    }\n",
       "</style>\n",
       "<table border=\"1\" class=\"dataframe\">\n",
       "  <thead>\n",
       "    <tr style=\"text-align: right;\">\n",
       "      <th></th>\n",
       "      <th>TV</th>\n",
       "      <th>Radio</th>\n",
       "      <th>Newspaper</th>\n",
       "      <th>Sales</th>\n",
       "    </tr>\n",
       "  </thead>\n",
       "  <tbody>\n",
       "    <tr>\n",
       "      <th>0</th>\n",
       "      <td>230.1</td>\n",
       "      <td>37.8</td>\n",
       "      <td>69.2</td>\n",
       "      <td>22.1</td>\n",
       "    </tr>\n",
       "    <tr>\n",
       "      <th>1</th>\n",
       "      <td>44.5</td>\n",
       "      <td>39.3</td>\n",
       "      <td>45.1</td>\n",
       "      <td>10.4</td>\n",
       "    </tr>\n",
       "    <tr>\n",
       "      <th>2</th>\n",
       "      <td>17.2</td>\n",
       "      <td>45.9</td>\n",
       "      <td>69.3</td>\n",
       "      <td>9.3</td>\n",
       "    </tr>\n",
       "    <tr>\n",
       "      <th>3</th>\n",
       "      <td>151.5</td>\n",
       "      <td>41.3</td>\n",
       "      <td>58.5</td>\n",
       "      <td>18.5</td>\n",
       "    </tr>\n",
       "    <tr>\n",
       "      <th>4</th>\n",
       "      <td>180.8</td>\n",
       "      <td>10.8</td>\n",
       "      <td>58.4</td>\n",
       "      <td>12.9</td>\n",
       "    </tr>\n",
       "  </tbody>\n",
       "</table>\n",
       "</div>"
      ],
      "text/plain": [
       "      TV  Radio  Newspaper  Sales\n",
       "0  230.1   37.8       69.2   22.1\n",
       "1   44.5   39.3       45.1   10.4\n",
       "2   17.2   45.9       69.3    9.3\n",
       "3  151.5   41.3       58.5   18.5\n",
       "4  180.8   10.8       58.4   12.9"
      ]
     },
     "execution_count": 5,
     "metadata": {},
     "output_type": "execute_result"
    }
   ],
   "source": [
    "df = df.iloc[:,1:] # eliminamos 1ra columna que no aporta nada\n",
    "df.head()"
   ]
  },
  {
   "cell_type": "code",
   "execution_count": 6,
   "id": "bf974f09",
   "metadata": {},
   "outputs": [
    {
     "name": "stdout",
     "output_type": "stream",
     "text": [
      "<class 'pandas.core.frame.DataFrame'>\n",
      "RangeIndex: 200 entries, 0 to 199\n",
      "Data columns (total 4 columns):\n",
      " #   Column     Non-Null Count  Dtype  \n",
      "---  ------     --------------  -----  \n",
      " 0   TV         200 non-null    float64\n",
      " 1   Radio      200 non-null    float64\n",
      " 2   Newspaper  200 non-null    float64\n",
      " 3   Sales      200 non-null    float64\n",
      "dtypes: float64(4)\n",
      "memory usage: 6.4 KB\n"
     ]
    }
   ],
   "source": [
    "df.info()"
   ]
  },
  {
   "cell_type": "code",
   "execution_count": 7,
   "id": "1af873b7",
   "metadata": {},
   "outputs": [
    {
     "data": {
      "text/plain": [
       "(200, 4)"
      ]
     },
     "execution_count": 7,
     "metadata": {},
     "output_type": "execute_result"
    }
   ],
   "source": [
    "df.shape"
   ]
  },
  {
   "cell_type": "code",
   "execution_count": 8,
   "id": "6e551439",
   "metadata": {},
   "outputs": [
    {
     "data": {
      "text/html": [
       "<div>\n",
       "<style scoped>\n",
       "    .dataframe tbody tr th:only-of-type {\n",
       "        vertical-align: middle;\n",
       "    }\n",
       "\n",
       "    .dataframe tbody tr th {\n",
       "        vertical-align: top;\n",
       "    }\n",
       "\n",
       "    .dataframe thead th {\n",
       "        text-align: right;\n",
       "    }\n",
       "</style>\n",
       "<table border=\"1\" class=\"dataframe\">\n",
       "  <thead>\n",
       "    <tr style=\"text-align: right;\">\n",
       "      <th></th>\n",
       "      <th>TV</th>\n",
       "      <th>Radio</th>\n",
       "      <th>Newspaper</th>\n",
       "      <th>Sales</th>\n",
       "    </tr>\n",
       "  </thead>\n",
       "  <tbody>\n",
       "    <tr>\n",
       "      <th>count</th>\n",
       "      <td>200.000000</td>\n",
       "      <td>200.000000</td>\n",
       "      <td>200.000000</td>\n",
       "      <td>200.000000</td>\n",
       "    </tr>\n",
       "    <tr>\n",
       "      <th>mean</th>\n",
       "      <td>147.042500</td>\n",
       "      <td>23.264000</td>\n",
       "      <td>30.554000</td>\n",
       "      <td>14.022500</td>\n",
       "    </tr>\n",
       "    <tr>\n",
       "      <th>std</th>\n",
       "      <td>85.854236</td>\n",
       "      <td>14.846809</td>\n",
       "      <td>21.778621</td>\n",
       "      <td>5.217457</td>\n",
       "    </tr>\n",
       "    <tr>\n",
       "      <th>min</th>\n",
       "      <td>0.700000</td>\n",
       "      <td>0.000000</td>\n",
       "      <td>0.300000</td>\n",
       "      <td>1.600000</td>\n",
       "    </tr>\n",
       "    <tr>\n",
       "      <th>25%</th>\n",
       "      <td>74.375000</td>\n",
       "      <td>9.975000</td>\n",
       "      <td>12.750000</td>\n",
       "      <td>10.375000</td>\n",
       "    </tr>\n",
       "    <tr>\n",
       "      <th>50%</th>\n",
       "      <td>149.750000</td>\n",
       "      <td>22.900000</td>\n",
       "      <td>25.750000</td>\n",
       "      <td>12.900000</td>\n",
       "    </tr>\n",
       "    <tr>\n",
       "      <th>75%</th>\n",
       "      <td>218.825000</td>\n",
       "      <td>36.525000</td>\n",
       "      <td>45.100000</td>\n",
       "      <td>17.400000</td>\n",
       "    </tr>\n",
       "    <tr>\n",
       "      <th>max</th>\n",
       "      <td>296.400000</td>\n",
       "      <td>49.600000</td>\n",
       "      <td>114.000000</td>\n",
       "      <td>27.000000</td>\n",
       "    </tr>\n",
       "  </tbody>\n",
       "</table>\n",
       "</div>"
      ],
      "text/plain": [
       "               TV       Radio   Newspaper       Sales\n",
       "count  200.000000  200.000000  200.000000  200.000000\n",
       "mean   147.042500   23.264000   30.554000   14.022500\n",
       "std     85.854236   14.846809   21.778621    5.217457\n",
       "min      0.700000    0.000000    0.300000    1.600000\n",
       "25%     74.375000    9.975000   12.750000   10.375000\n",
       "50%    149.750000   22.900000   25.750000   12.900000\n",
       "75%    218.825000   36.525000   45.100000   17.400000\n",
       "max    296.400000   49.600000  114.000000   27.000000"
      ]
     },
     "execution_count": 8,
     "metadata": {},
     "output_type": "execute_result"
    }
   ],
   "source": [
    "df.describe()"
   ]
  },
  {
   "cell_type": "code",
   "execution_count": 9,
   "id": "e8b103d8",
   "metadata": {},
   "outputs": [
    {
     "data": {
      "text/plain": [
       "Index(['TV', 'Radio', 'Newspaper', 'Sales'], dtype='object')"
      ]
     },
     "execution_count": 9,
     "metadata": {},
     "output_type": "execute_result"
    }
   ],
   "source": [
    "df.columns"
   ]
  },
  {
   "cell_type": "markdown",
   "id": "614a4779",
   "metadata": {},
   "source": [
    "Como nuestro objetivo es encontrar la mejor forma de publicitar un producto (y que nos genere mas ventas) la columna \"Sales\" sera nuestra variable dependiente"
   ]
  },
  {
   "cell_type": "code",
   "execution_count": 10,
   "id": "d5fa0ac0",
   "metadata": {},
   "outputs": [
    {
     "data": {
      "image/png": "[encoded data removed]",
      "text/plain": [
       "<Figure size 640x480 with 1 Axes>"
      ]
     },
     "metadata": {},
     "output_type": "display_data"
    },
    {
     "data": {
      "image/png": "[encoded data removed]",
      "text/plain": [
       "<Figure size 640x480 with 1 Axes>"
      ]
     },
     "metadata": {},
     "output_type": "display_data"
    },
    {
     "data": {
      "image/png": "[encoded data removed]",
      "text/plain": [
       "<Figure size 640x480 with 1 Axes>"
      ]
     },
     "metadata": {},
     "output_type": "display_data"
    }
   ],
   "source": [
    "cols = ['TV', 'Radio', 'Newspaper']\n",
    "for col in cols:\n",
    "    plt.plot(df[col], df['Sales'],'ro') \n",
    "    plt.title('ventas respecto a la publicidad en %s' % col)\n",
    "    plt.show()"
   ]
  },
  {
   "cell_type": "markdown",
   "id": "924bf58f",
   "metadata": {},
   "source": [
    "# Regresion Lineal Simple"
   ]
  },
  {
   "cell_type": "code",
   "execution_count": 11,
   "id": "85a8d50d",
   "metadata": {},
   "outputs": [],
   "source": [
    "from sklearn.linear_model import LinearRegression\n",
    "from sklearn.model_selection import train_test_split\n",
    "from sklearn.metrics import mean_squared_error, r2_score"
   ]
  },
  {
   "cell_type": "code",
   "execution_count": null,
   "id": "e3871414",
   "metadata": {},
   "outputs": [],
   "source": [
    "X = df['TV'].values.reshape(-1,1) # los convertimos a matriz\n",
    "y = df['Sales'].values"
   ]
  },
  {
   "cell_type": "markdown",
   "id": "a963265f",
   "metadata": {},
   "source": [
    "Utilizamos .values.reshape(-1,1) porque scikit-learn espera que las características de entrada para el modelo de regresión sean una matriz bidimensional, donde cada fila representa una observación y cada columna representa una característica."
   ]
  },
  {
   "cell_type": "code",
   "execution_count": null,
   "id": "5303f9fe",
   "metadata": {},
   "outputs": [],
   "source": [
    "# Dividimos conjunto de datos entre train y test\n",
    "X_train, X_test, y_train, y_test = train_test_split(X, y, test_size=0.2, random_state=42)"
   ]
  },
  {
   "cell_type": "code",
   "execution_count": null,
   "id": "4212a8e6",
   "metadata": {},
   "outputs": [],
   "source": [
    "print(X_train.shape)\n",
    "print(X_test.shape)\n",
    "print(y_train.shape)\n",
    "print(y_test.shape)"
   ]
  },
  {
   "cell_type": "code",
   "execution_count": null,
   "id": "a193149d",
   "metadata": {},
   "outputs": [],
   "source": [
    "# Entrenamos el modelo lineal con los datos\n",
    "lin_reg = LinearRegression()\n",
    "lin_reg.fit(X_train,y_train)"
   ]
  },
  {
   "cell_type": "code",
   "execution_count": null,
   "id": "e1345eb7",
   "metadata": {},
   "outputs": [],
   "source": [
    "#Prediccion de los valores usando el modelo\n",
    "predict = lin_reg.predict(X_test)"
   ]
  },
  {
   "cell_type": "code",
   "execution_count": null,
   "id": "c0e1e0f8",
   "metadata": {},
   "outputs": [],
   "source": [
    "print(f'Predicciones: {predict[:4]}, Reales: {y_test[:4]}')"
   ]
  },
  {
   "cell_type": "code",
   "execution_count": null,
   "id": "b91d49dd",
   "metadata": {},
   "outputs": [],
   "source": [
    "#RMSE\n",
    "rmse = mean_squared_error(y_test,predict, squared=False)\n",
    "print('RMSE: ',rmse)\n",
    "\n",
    "#R^2\n",
    "print('R^2: ',r2_score(y_test,predict))"
   ]
  },
  {
   "cell_type": "markdown",
   "id": "abdf9a3f",
   "metadata": {},
   "source": [
    "**RMSE** nos indica cuánto varían en promedio las predicciones del modelo con respecto a los valores reales.\n",
    "\n",
    "El parámetro squared = False indica que la función debería devolver la raíz cuadrada del error cuadrático medio en lugar del propio error cuadrático medio. Esto es específico para el cálculo del RMSE en lugar del MSE. Si se omite o se establece en True (que es el valor por defecto), devolverá el MSE.\n",
    "\n",
    "**R^2** indica qué tan bien los valores observados se ajustan a los valores predichos por el modelo de regresión. Cuanto más cercano sea el valor de R^2 a 1, mejor será el ajuste del modelo a los datos observados."
   ]
  },
  {
   "cell_type": "code",
   "execution_count": null,
   "id": "9a0bb369",
   "metadata": {},
   "outputs": [],
   "source": []
  },
  {
   "cell_type": "code",
   "execution_count": null,
   "id": "563831ee",
   "metadata": {},
   "outputs": [],
   "source": [
    "import matplotlib.pyplot as plt\n",
    "\n",
    "# Gráfico de dispersión de los datos reales\n",
    "plt.scatter(X_test, y_test, color='red', label='Datos reales')\n",
    "\n",
    "# Gráfico de la línea de regresión\n",
    "plt.plot(X_test, predict, color='blue', linewidth=2, label='Línea de regresión')\n",
    "\n",
    "plt.title('Ventas respecto a la publicidad en TV')\n",
    "plt.xlabel('Publicidad en TV')\n",
    "plt.ylabel('Ventas')\n",
    "plt.legend()\n",
    "plt.show()\n"
   ]
  },
  {
   "cell_type": "code",
   "execution_count": null,
   "id": "61f6b409",
   "metadata": {},
   "outputs": [],
   "source": [
    "def modelos_simple(independiente):\n",
    "    X = df[independiente].values.reshape(-1,1)\n",
    "    y = df['Sales'].values\n",
    "    \n",
    "    X_train, X_test, y_train, y_test = train_test_split(X, y, test_size=0.2, random_state=42)\n",
    "    lin_reg = LinearRegression()\n",
    "    lin_reg.fit(X_train,y_train)\n",
    "    predict = lin_reg.predict(X_test)\n",
    "    rmse = mean_squared_error(y_test,predict, squared=False)\n",
    "    print('RMSE: ',rmse)\n",
    "    print('R^2: ',r2_score(y_test,predict))\n",
    "    plt.plot(X_test, y_test, 'ro')\n",
    "    plt.plot(X_test, predict)\n",
    "    plt.show()"
   ]
  },
  {
   "cell_type": "markdown",
   "id": "730c6391",
   "metadata": {},
   "source": [
    "### ventas respecto a la publicidad en Radio"
   ]
  },
  {
   "cell_type": "code",
   "execution_count": null,
   "id": "b753a6e2",
   "metadata": {},
   "outputs": [],
   "source": [
    "modelos_simple('Radio')"
   ]
  },
  {
   "cell_type": "markdown",
   "id": "f3aacbe7",
   "metadata": {},
   "source": [
    "### ventas respecto a la publicidad en periodico"
   ]
  },
  {
   "cell_type": "code",
   "execution_count": null,
   "id": "bd8a8412",
   "metadata": {},
   "outputs": [],
   "source": [
    "modelos_simple('Newspaper')"
   ]
  },
  {
   "cell_type": "markdown",
   "id": "2032bdeb",
   "metadata": {},
   "source": [
    "Los resultados obtenidos por cada uno de los modelos son los siguientes:\n",
    "\n",
    "    TV: R^2: 0.6766954295627076 RMSE: 3.194472431998898\n",
    "    Radio: R^2: 0.2634309396999791 RMSE: 4.8216974799471926\n",
    "    Periodico: R^2: 0.029871749149522397 RMSE: 5.533600454969853\n",
    "    \n",
    "Con base a los resultados podemos decir que el mejor modelo cuando utilizamos una sola variable independiente es el de TV, seguido por el de Radio y el que peor rendimiento muestra es el de Periódico.\n",
    "\n",
    "Conociendo los resultados de los modelos podemos ahora a la creación del modelo de regresión lineal múltiple haciendo distintas combinaciones de las variables del conjunto, con esta combinación de variables veremos si podemos conseguir un modelo que tenga un mejor rendimiento con los datos que se tienen."
   ]
  },
  {
   "cell_type": "markdown",
   "id": "0af04a8f",
   "metadata": {},
   "source": [
    "# Regresion lineal Multiple"
   ]
  },
  {
   "cell_type": "code",
   "execution_count": null,
   "id": "7d77d285",
   "metadata": {},
   "outputs": [],
   "source": [
    "import seaborn as sns"
   ]
  },
  {
   "cell_type": "code",
   "execution_count": null,
   "id": "ef95c540",
   "metadata": {},
   "outputs": [],
   "source": [
    "X = df.drop(['Radio', 'Sales'], axis =1 ).values #TV y  Periodico\n",
    "y = df['Sales'].values\n",
    "    \n",
    "X_train, X_test, y_train, y_test = train_test_split(X, y, test_size=0.2, random_state=42)\n",
    "\n",
    "lin_reg = LinearRegression()\n",
    "lin_reg.fit(X_train,y_train)\n",
    "\n",
    "predict = lin_reg.predict(X_test)\n",
    "print('Predicciones: {}, Reales: {}'.format(predict[:4], y_test[:4]))\n",
    "\n",
    "rmse = mean_squared_error(y_test,predict, squared=False)\n",
    "print('RMSE: ',rmse)\n",
    "print('R2: ',r2_score(y_test,predict))\n",
    "\n",
    "sns.regplot(x=y_test, y =predict)\n",
    "\n",
    "\n"
   ]
  },
  {
   "cell_type": "code",
   "execution_count": null,
   "id": "8a794d03",
   "metadata": {},
   "outputs": [],
   "source": [
    "X = df.drop(['Newspaper', 'Sales'], axis =1 ).values #TV y  Radio\n",
    "y = df['Sales'].values\n",
    "    \n",
    "X_train, X_test, y_train, y_test = train_test_split(X, y, test_size=0.2, random_state=42)\n",
    "\n",
    "lin_reg = LinearRegression()\n",
    "lin_reg.fit(X_train,y_train)\n",
    "\n",
    "predict = lin_reg.predict(X_test)\n",
    "print('Predicciones: {}, Reales: {}'.format(predict[:4], y_test[:4]))\n",
    "\n",
    "rmse = mean_squared_error(y_test,predict, squared=False)\n",
    "print('RMSE: ',rmse)\n",
    "print('R^2: ',r2_score(y_test,predict))\n",
    "\n",
    "sns.regplot(x=y_test, y =predict)\n",
    "\n"
   ]
  },
  {
   "cell_type": "markdown",
   "id": "3979b071",
   "metadata": {},
   "source": [
    "Los resultados obtenidos por cada uno de los modelos son los siguientes: \n",
    "\n",
    "    TV - Newspaper: R^2: 0.649515280538585 RMSE: 3.3260422878644853\n",
    "    TV - Radio: R^2: 0.9005833101920356 RMSE: 1.7714254173033515\n",
    "\n",
    "Con base a los resultados podemos decir que el mejor modelo cuando utilizamos TV - Radio."
   ]
  }
 ],
 "metadata": {
  "kernelspec": {
   "display_name": "Python 3 (ipykernel)",
   "language": "python",
   "name": "python3"
  },
  "language_info": {
   "codemirror_mode": {
    "name": "ipython",
    "version": 3
   },
   "file_extension": ".py",
   "mimetype": "text/x-python",
   "name": "python",
   "nbconvert_exporter": "python",
   "pygments_lexer": "ipython3",
   "version": "3.11.2"
  }
 },
 "nbformat": 4,
 "nbformat_minor": 5
}
